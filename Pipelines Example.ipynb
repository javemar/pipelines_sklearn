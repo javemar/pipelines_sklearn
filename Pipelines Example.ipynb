{
 "cells": [
  {
   "cell_type": "markdown",
   "metadata": {},
   "source": [
    "# Creating a example of a pipeline"
   ]
  },
  {
   "cell_type": "markdown",
   "metadata": {},
   "source": [
    "We can create custom transformers that allow make data cleaning or more.  "
   ]
  },
  {
   "cell_type": "code",
   "execution_count": 1,
   "metadata": {},
   "outputs": [
    {
     "data": {
      "text/plain": [
       "'2.7.16 |Anaconda, Inc.| (default, Mar 14 2019, 21:00:58) \\n[GCC 7.3.0]'"
      ]
     },
     "execution_count": 1,
     "metadata": {},
     "output_type": "execute_result"
    }
   ],
   "source": [
    "import sys\n",
    "sys.version"
   ]
  },
  {
   "cell_type": "code",
   "execution_count": 2,
   "metadata": {},
   "outputs": [],
   "source": [
    "from sklearn.base import BaseEstimator,  TransformerMixin\n",
    "import pandas as pd\n",
    "import numpy as np\n",
    "from sklearn.pipeline import Pipeline"
   ]
  },
  {
   "cell_type": "code",
   "execution_count": 3,
   "metadata": {},
   "outputs": [
    {
     "data": {
      "text/plain": [
       "'0.20.0'"
      ]
     },
     "execution_count": 3,
     "metadata": {},
     "output_type": "execute_result"
    }
   ],
   "source": [
    "pd.__version__\n",
    "import sklearn\n",
    "sklearn.__version__"
   ]
  },
  {
   "cell_type": "code",
   "execution_count": 11,
   "metadata": {},
   "outputs": [],
   "source": [
    "class FilterNumericos(BaseEstimator, TransformerMixin):\n",
    "\t\"\"\"\n",
    "    It's a transformer that filter data with a numeric threshold value. \n",
    "    \n",
    "    Parameters\n",
    "    ----------\n",
    "    campos_numericos:list\n",
    "        name of the columns that we need to filter  out\n",
    "    umbral:float\n",
    "        numerical threshold. Every value above this value will be filter out\n",
    "\n",
    "    \"\"\"\n",
    "\tdef __init__(self, campos_numericos=None, umbral = 2):\n",
    "\t\tself.umbral  = umbral\n",
    "\t\tself.campos_numericos = campos_numericos\n",
    "\tdef fit(self, X, y=None):\n",
    "\n",
    "\t\treturn self\n",
    "\tdef transform(self, X, y=None):\n",
    "\t\t#columnas = X.columns\n",
    "        \n",
    "        \n",
    "        \n",
    "\t\ttemporal  = X.copy()\n",
    "\t\tfor campo in self.campos_numericos:\n",
    "\t\t\ttemporal.query(\"{} <= {} \".format(campo, self.umbral), inplace=True)\n",
    "\t\t\tprint temporal.shape\n",
    "\t\treturn temporal\n",
    "\t\t\n",
    "class FilterCategorical(TransformerMixin,  BaseEstimator):\n",
    "\t\"\"\"\n",
    "    It's a transformer that filter data that is not in the list valores\n",
    "    \n",
    "    Parameters\n",
    "    ----------\n",
    "    campos_categoricos:list\n",
    "        name of the columns that we need to filter  out\n",
    "    valores:list\n",
    "        Values that every column should have\n",
    "\n",
    "    \"\"\"\n",
    "\tdef __init__(self, campos_categoricos=None,  valores= [\"a\", \"c\", \"g\"]):\n",
    "\t\tself.campos_categoricos  = campos_categoricos\n",
    "\t\tself.valores = valores\n",
    "\t\t\n",
    "\tdef fit(self,  X, y=None):\n",
    "\t\treturn self\n",
    "\tdef transform(self, X, y=None):\n",
    "\t\ttemporal = X.copy()\n",
    "\t\tvalores = self.valores\n",
    "\t\tfor campo in self.campos_categoricos:\n",
    "\t\t\ttemporal.query(\"{} in @valores\".format(campo ),  inplace=True)\n",
    "\t\t\tprint temporal.shape\n",
    "\t\treturn temporal"
   ]
  },
  {
   "cell_type": "code",
   "execution_count": 5,
   "metadata": {},
   "outputs": [],
   "source": [
    "data = pd.DataFrame({\"campo1\":[1, 2, 3,4, 5] ,\n",
    "\t\t\t\t\t\"campo2\":\"a,b,c,d,e\".split(\",\"),\n",
    "\t\t\t\t\t\"campo3\":[6,  7,  8,  9,  0] ,\n",
    "\t\t\t\t\t\"campo4\":\"f,g,h,i,j\".split(\",\")})"
   ]
  },
  {
   "cell_type": "code",
   "execution_count": 6,
   "metadata": {},
   "outputs": [
    {
     "data": {
      "text/html": [
       "<div>\n",
       "<style scoped>\n",
       "    .dataframe tbody tr th:only-of-type {\n",
       "        vertical-align: middle;\n",
       "    }\n",
       "\n",
       "    .dataframe tbody tr th {\n",
       "        vertical-align: top;\n",
       "    }\n",
       "\n",
       "    .dataframe thead th {\n",
       "        text-align: right;\n",
       "    }\n",
       "</style>\n",
       "<table border=\"1\" class=\"dataframe\">\n",
       "  <thead>\n",
       "    <tr style=\"text-align: right;\">\n",
       "      <th></th>\n",
       "      <th>campo1</th>\n",
       "      <th>campo2</th>\n",
       "      <th>campo3</th>\n",
       "      <th>campo4</th>\n",
       "    </tr>\n",
       "  </thead>\n",
       "  <tbody>\n",
       "    <tr>\n",
       "      <th>0</th>\n",
       "      <td>1</td>\n",
       "      <td>a</td>\n",
       "      <td>6</td>\n",
       "      <td>f</td>\n",
       "    </tr>\n",
       "    <tr>\n",
       "      <th>1</th>\n",
       "      <td>2</td>\n",
       "      <td>b</td>\n",
       "      <td>7</td>\n",
       "      <td>g</td>\n",
       "    </tr>\n",
       "    <tr>\n",
       "      <th>2</th>\n",
       "      <td>3</td>\n",
       "      <td>c</td>\n",
       "      <td>8</td>\n",
       "      <td>h</td>\n",
       "    </tr>\n",
       "    <tr>\n",
       "      <th>3</th>\n",
       "      <td>4</td>\n",
       "      <td>d</td>\n",
       "      <td>9</td>\n",
       "      <td>i</td>\n",
       "    </tr>\n",
       "    <tr>\n",
       "      <th>4</th>\n",
       "      <td>5</td>\n",
       "      <td>e</td>\n",
       "      <td>0</td>\n",
       "      <td>j</td>\n",
       "    </tr>\n",
       "  </tbody>\n",
       "</table>\n",
       "</div>"
      ],
      "text/plain": [
       "   campo1 campo2  campo3 campo4\n",
       "0       1      a       6      f\n",
       "1       2      b       7      g\n",
       "2       3      c       8      h\n",
       "3       4      d       9      i\n",
       "4       5      e       0      j"
      ]
     },
     "execution_count": 6,
     "metadata": {},
     "output_type": "execute_result"
    }
   ],
   "source": [
    "data.head()\n"
   ]
  },
  {
   "cell_type": "markdown",
   "metadata": {},
   "source": [
    "A pipeline accept any type of data (At least pandas Dataframes or numpy Arrays.)"
   ]
  },
  {
   "cell_type": "code",
   "execution_count": 7,
   "metadata": {},
   "outputs": [
    {
     "data": {
      "text/plain": [
       "140704998787536"
      ]
     },
     "execution_count": 7,
     "metadata": {},
     "output_type": "execute_result"
    }
   ],
   "source": [
    "id(data)"
   ]
  },
  {
   "cell_type": "code",
   "execution_count": 8,
   "metadata": {},
   "outputs": [
    {
     "name": "stdout",
     "output_type": "stream",
     "text": [
      "(5, 4)\n",
      "(4, 4)\n",
      "(2, 4)\n",
      "(1, 4)\n"
     ]
    }
   ],
   "source": [
    "pipeline = Pipeline( [('numerico', FilterNumericos() ), \n",
    "\t\t\t\t\t\t('categorical', FilterCategorical())])\n",
    "\t\t\t\t\t\t\n",
    "resultado  = pipeline.set_params(numerico__campos_numericos=[\"campo1\", \"campo3\"],numerico__umbral=8 ,\n",
    "\t\t\t\t\t\t\t\tcategorical__valores  = [\"a\",  \"c\", \"f\"],\n",
    "\t\t\t\t\tcategorical__campos_categoricos=[\"campo2\",  \"campo4\"]).fit_transform(data)"
   ]
  },
  {
   "cell_type": "code",
   "execution_count": 12,
   "metadata": {},
   "outputs": [
    {
     "data": {
      "text/plain": [
       "pandas.core.frame.DataFrame"
      ]
     },
     "execution_count": 12,
     "metadata": {},
     "output_type": "execute_result"
    }
   ],
   "source": [
    "id(resultado)\n",
    "type(resultado)"
   ]
  },
  {
   "cell_type": "markdown",
   "metadata": {},
   "source": [
    "### We can  create  a  pipeline that makes changes on the dateframe inplace"
   ]
  },
  {
   "cell_type": "code",
   "execution_count": 14,
   "metadata": {},
   "outputs": [
    {
     "name": "stdout",
     "output_type": "stream",
     "text": [
      "140704998787536\n",
      "140704998787536\n"
     ]
    }
   ],
   "source": [
    "\n",
    "class FilterNumericos_v2(BaseEstimator, TransformerMixin):\n",
    "\tdef __init__(self, campos_numericos=None, umbral = 2):\n",
    "\t\tself.umbral  = umbral\n",
    "\t\tself.campos_numericos = campos_numericos\n",
    "\tdef fit(self, X, y=None):\n",
    "\t\treturn self\n",
    "\tdef transform(self, X, y=None):\n",
    "\t\t#columnas = X.columns\n",
    "\t\t#temporal  = X.copy()\n",
    "\t\tprint id(X)\n",
    "\t\tfor campo in self.campos_numericos:\n",
    "\t\t\tX.query(\"{} <= {} \".format(campo, self.umbral), inplace=True)\n",
    "\t\t\t#print temporal.shape\n",
    "\t\treturn X\n",
    "\t\t\n",
    "class FilterCategorical_v2(TransformerMixin,  BaseEstimator):\n",
    "\tdef __init__(self, campos_categoricos=None,  valores= [\"a\", \"c\", \"g\"]):\n",
    "\t\tself.campos_categoricos  = campos_categoricos\n",
    "\t\tself.valores = valores\n",
    "\t\t\n",
    "\tdef fit(self,  X, y=None):\n",
    "\t\treturn self\n",
    "\tdef transform(self, X, y=None):\n",
    "\t\t# temporal = X.copy()\n",
    "\t\tprint id(X)\n",
    "\t\tvalores = self.valores\n",
    "\t\tfor campo in self.campos_categoricos:\n",
    "\t\t\tX.query(\"{} in @valores\".format(campo ),  inplace=True)\n",
    "\t\t\t#print temporal.shape\n",
    "\t\treturn X\t\t\n",
    "\t\t\n",
    "pipeline_v2 = Pipeline( [('numerico', FilterNumericos_v2() ), \n",
    "\t\t\t\t\t\t('categorical', FilterCategorical_v2())])\n",
    "\t\t\t\t\t\t\n",
    "resultado_v2  = pipeline_v2.set_params(numerico__campos_numericos=[\"campo1\", \"campo3\"],numerico__umbral=8 ,\n",
    "\t\t\t\t\t\t\t\tcategorical__valores  = [\"a\",  \"c\", \"f\"],\n",
    "\t\t\t\t\tcategorical__campos_categoricos=[\"campo2\",  \"campo4\"]).fit_transform(data)\t\t\n"
   ]
  },
  {
   "cell_type": "code",
   "execution_count": 15,
   "metadata": {},
   "outputs": [
    {
     "data": {
      "text/plain": [
       "(140704998787536, 140704998787536)"
      ]
     },
     "execution_count": 15,
     "metadata": {},
     "output_type": "execute_result"
    }
   ],
   "source": [
    "id(data),  id(resultado_v2)"
   ]
  },
  {
   "cell_type": "code",
   "execution_count": null,
   "metadata": {},
   "outputs": [],
   "source": []
  }
 ],
 "metadata": {
  "kernelspec": {
   "display_name": "Python 2",
   "language": "python",
   "name": "python2"
  },
  "language_info": {
   "codemirror_mode": {
    "name": "ipython",
    "version": 2
   },
   "file_extension": ".py",
   "mimetype": "text/x-python",
   "name": "python",
   "nbconvert_exporter": "python",
   "pygments_lexer": "ipython2",
   "version": "2.7.16"
  }
 },
 "nbformat": 4,
 "nbformat_minor": 2
}
